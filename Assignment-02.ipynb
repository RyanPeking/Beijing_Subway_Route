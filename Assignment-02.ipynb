{
 "cells": [
  {
   "cell_type": "markdown",
   "metadata": {},
   "source": [
    "# Beijing_Subway_Route"
   ]
  },
  {
   "cell_type": "markdown",
   "metadata": {},
   "source": [
    "![](https://timgsa.baidu.com/timg?image&quality=80&size=b9999_10000&sec=1562414356407&di=b57814aafd215bb8b8d9d8cd37c573d6&imgtype=0&src=http%3A%2F%2Fcli.clewm.net%2Ffile%2F2015%2F03%2F24%2F174ed60082b8422ac0636cfd3efb9e7f.jpg)"
   ]
  },
  {
   "cell_type": "markdown",
   "metadata": {},
   "source": [
    "## 从百度百科爬取数据"
   ]
  },
  {
   "cell_type": "code",
   "execution_count": 1,
   "metadata": {},
   "outputs": [],
   "source": [
    "import requests\n",
    "import re"
   ]
  },
  {
   "cell_type": "code",
   "execution_count": 2,
   "metadata": {},
   "outputs": [],
   "source": [
    "def get_html(url):\n",
    "    headers = {\n",
    "        'User-Agent':'Mozilla/5.0 (Windows NT 10.0; Win64; x64) AppleWebKit/537.36 (KHTML, like Gecko) Chrome/75.0.3770.100 Safari/537.36'\n",
    "    }\n",
    "    res = requests.get(url=url, headers=headers).content\n",
    "    html = res.decode('utf-8')\n",
    "    return html"
   ]
  },
  {
   "cell_type": "code",
   "execution_count": 3,
   "metadata": {},
   "outputs": [],
   "source": [
    "url_subways = 'https://baike.baidu.com/item/%E5%8C%97%E4%BA%AC%E5%9C%B0%E9%93%81/408485'\n",
    "html_subways = get_html(url_subways)"
   ]
  },
  {
   "cell_type": "code",
   "execution_count": 4,
   "metadata": {},
   "outputs": [],
   "source": [
    "pattern = re.compile(r'<a target=_blank href=\"(.*?)\">(北京地铁.*?)</a></td><td valign=\"top\"')"
   ]
  },
  {
   "cell_type": "code",
   "execution_count": 5,
   "metadata": {},
   "outputs": [],
   "source": [
    "url_list = pattern.findall(html_subways)"
   ]
  },
  {
   "cell_type": "code",
   "execution_count": 6,
   "metadata": {},
   "outputs": [],
   "source": [
    "url_dict = {}\n",
    "for url, subway_num in url_list:\n",
    "    url_dict[subway_num] = 'https://baike.baidu.com' + url"
   ]
  },
  {
   "cell_type": "code",
   "execution_count": 7,
   "metadata": {},
   "outputs": [
    {
     "data": {
      "text/plain": [
       "{'北京地铁1号线': 'https://baike.baidu.com/item/%E5%8C%97%E4%BA%AC%E5%9C%B0%E9%93%811%E5%8F%B7%E7%BA%BF',\n",
       " '北京地铁2号线': 'https://baike.baidu.com/item/%E5%8C%97%E4%BA%AC%E5%9C%B0%E9%93%812%E5%8F%B7%E7%BA%BF',\n",
       " '北京地铁4号线': 'https://baike.baidu.com/item/%E5%8C%97%E4%BA%AC%E5%9C%B0%E9%93%814%E5%8F%B7%E7%BA%BF',\n",
       " '北京地铁5号线': 'https://baike.baidu.com/item/%E5%8C%97%E4%BA%AC%E5%9C%B0%E9%93%815%E5%8F%B7%E7%BA%BF',\n",
       " '北京地铁6号线': 'https://baike.baidu.com/item/%E5%8C%97%E4%BA%AC%E5%9C%B0%E9%93%816%E5%8F%B7%E7%BA%BF',\n",
       " '北京地铁7号线': 'https://baike.baidu.com/item/%E5%8C%97%E4%BA%AC%E5%9C%B0%E9%93%817%E5%8F%B7%E7%BA%BF',\n",
       " '北京地铁8号线': 'https://baike.baidu.com/item/%E5%8C%97%E4%BA%AC%E5%9C%B0%E9%93%818%E5%8F%B7%E7%BA%BF',\n",
       " '北京地铁9号线': 'https://baike.baidu.com/item/%E5%8C%97%E4%BA%AC%E5%9C%B0%E9%93%819%E5%8F%B7%E7%BA%BF',\n",
       " '北京地铁10号线': 'https://baike.baidu.com/item/%E5%8C%97%E4%BA%AC%E5%9C%B0%E9%93%8110%E5%8F%B7%E7%BA%BF',\n",
       " '北京地铁13号线': 'https://baike.baidu.com/item/%E5%8C%97%E4%BA%AC%E5%9C%B0%E9%93%8113%E5%8F%B7%E7%BA%BF',\n",
       " '北京地铁14号线': 'https://baike.baidu.com/item/%E5%8C%97%E4%BA%AC%E5%9C%B0%E9%93%8114%E5%8F%B7%E7%BA%BF',\n",
       " '北京地铁15号线': 'https://baike.baidu.com/item/%E5%8C%97%E4%BA%AC%E5%9C%B0%E9%93%8115%E5%8F%B7%E7%BA%BF',\n",
       " '北京地铁16号线': 'https://baike.baidu.com/item/%E5%8C%97%E4%BA%AC%E5%9C%B0%E9%93%8116%E5%8F%B7%E7%BA%BF',\n",
       " '北京地铁昌平线': 'https://baike.baidu.com/item/%E5%8C%97%E4%BA%AC%E5%9C%B0%E9%93%81%E6%98%8C%E5%B9%B3%E7%BA%BF',\n",
       " '北京地铁房山线': 'https://baike.baidu.com/item/%E5%8C%97%E4%BA%AC%E5%9C%B0%E9%93%81%E6%88%BF%E5%B1%B1%E7%BA%BF',\n",
       " '北京地铁亦庄线': 'https://baike.baidu.com/item/%E5%8C%97%E4%BA%AC%E5%9C%B0%E9%93%81%E4%BA%A6%E5%BA%84%E7%BA%BF',\n",
       " '北京地铁燕房线': 'https://baike.baidu.com/item/%E5%8C%97%E4%BA%AC%E5%9C%B0%E9%93%81%E7%87%95%E6%88%BF%E7%BA%BF',\n",
       " '北京地铁机场线': 'https://baike.baidu.com/item/%E5%8C%97%E4%BA%AC%E5%9C%B0%E9%93%81%E6%9C%BA%E5%9C%BA%E7%BA%BF'}"
      ]
     },
     "execution_count": 7,
     "metadata": {},
     "output_type": "execute_result"
    }
   ],
   "source": [
    "url_dict # 缺八通线，西郊线， s1线"
   ]
  },
  {
   "cell_type": "code",
   "execution_count": 128,
   "metadata": {},
   "outputs": [
    {
     "name": "stdout",
     "output_type": "stream",
     "text": [
      "['苹果园', '古城', '八角游乐园', '八宝山', '玉泉路', '五棵松', '万寿路', '公主坟', '军事博物馆', '木樨地', '南礼士路', '复兴门', '西单', '天安门西', '天安门东', '王府井', '东单', '建国门', '永安里', '国贸', '大望路', '四惠', '四惠东']\n"
     ]
    }
   ],
   "source": [
    "pattern_1 = re.compile(r'<td align=\"center\" valign=\"middle\" colspan=\"1\" rowspan=\"1\">(.*?)</td>')\n",
    "html_1 = get_html(url_dict['北京地铁1号线'])\n",
    "site_1 = pattern_1.findall(html_1)\n",
    "print(site_1)"
   ]
  },
  {
   "cell_type": "code",
   "execution_count": 129,
   "metadata": {},
   "outputs": [
    {
     "name": "stdout",
     "output_type": "stream",
     "text": [
      "['西直门', '积水潭', '鼓楼大街', '安定门', '雍和宫', '东直门', '东四十条', '朝阳门', '建国门', '北京站', '崇文门', '前门', '和平门', '宣武门', '长椿街', '复兴门', '阜成门', '车公庄']\n"
     ]
    }
   ],
   "source": [
    "pattern_2 = re.compile(r'<tr><th>(.*?)</th><td width=\"72\" align=\"middle\" valign=\"center\">')\n",
    "html_2 = get_html(url_dict['北京地铁2号线'])\n",
    "site_2 = pattern_2.findall(html_2)\n",
    "site_2.pop(0)\n",
    "print(site_2)"
   ]
  },
  {
   "cell_type": "code",
   "execution_count": 130,
   "metadata": {},
   "outputs": [
    {
     "name": "stdout",
     "output_type": "stream",
     "text": [
      "['安河桥北', '北宫门', '西苑', '圆明园', '北京大学东门', '中关村', '海淀黄庄', '人民大学', '魏公村', '国家图书馆', '动物园', '西直门', '新街口', '平安里', '西四', '灵境胡同', '西单', '宣武门', '菜市口', '陶然亭', '北京南站', '马家堡', '角门西', '公益西桥']\n"
     ]
    }
   ],
   "source": [
    "pattern_4 = re.compile(r'</td></tr><tr><td valign=\"top\" align=\"left\" width=\"117\">(.*?)</td>')\n",
    "html_4 = get_html(url_dict['北京地铁4号线'])\n",
    "site_4 = pattern_4.findall(html_4)\n",
    "site_4.pop(0)\n",
    "print(site_4)"
   ]
  },
  {
   "cell_type": "code",
   "execution_count": 131,
   "metadata": {},
   "outputs": [
    {
     "name": "stdout",
     "output_type": "stream",
     "text": [
      "['宋家庄', '刘家窑', '蒲黄榆', '天坛东门', '磁器口', '崇文门', '东单', '灯市口', '东四', '张自忠路', '北新桥', '雍和宫', '和平里北街', '和平西桥', '惠新西街南口', '惠新西街北口', '大屯路东', '北苑路北', '立水桥南', '立水桥', '天通苑南', '天通苑', '天通苑北']\n"
     ]
    }
   ],
   "source": [
    "pattern_5 = re.compile(r'</td></tr><tr><th align=\"center\" valign=\"middle\">(.*?)</th>')\n",
    "html_5 = get_html(url_dict['北京地铁5号线'])\n",
    "site_5 = pattern_5.findall(html_5)\n",
    "site_5 = site_5[21:]\n",
    "print(site_5)"
   ]
  },
  {
   "cell_type": "code",
   "execution_count": 132,
   "metadata": {},
   "outputs": [
    {
     "name": "stdout",
     "output_type": "stream",
     "text": [
      "['金安桥', '苹果园', '杨庄', '西黄村', '廖公庄', '田村', '海淀五路居', '慈寿寺', '花园桥', '白石桥南', '车公庄西', '车公庄', '平安里', '北海北', '南锣鼓巷', '东四', '朝阳门', '东大桥', '呼家楼', '金台路', '十里堡', '青年路', '褡裢坡', '黄渠', '常营', '草房', '物资学院路', '通州北关', '通运门', '北运河西', '北运河东', '郝家府', '东夏园', '潞城']\n"
     ]
    }
   ],
   "source": [
    "pattern_6 = re.compile(r'</tr><tr><th>(\\w+)</th><td>')\n",
    "html_6 = get_html(url_dict['北京地铁6号线'])\n",
    "site_6 = pattern_6.findall(html_6)\n",
    "print(site_6)"
   ]
  },
  {
   "cell_type": "code",
   "execution_count": 133,
   "metadata": {},
   "outputs": [
    {
     "name": "stdout",
     "output_type": "stream",
     "text": [
      "['北京西站', '湾子', '达官营', '广安门内', '菜市口', '虎坊桥', '珠市口', '桥湾', '磁器口', '广渠门内', '广渠门外', '双井', '九龙山', '大郊亭', '百子湾', '化工', '南楼梓庄', '欢乐谷景区', '垡头', '双合', '焦化厂']\n"
     ]
    }
   ],
   "source": [
    "pattern_7 = re.compile(r'</td></tr><tr><th>(\\w+)</th>')\n",
    "html_7 = get_html(url_dict['北京地铁7号线'])\n",
    "site_7 = pattern_7.findall(html_7)\n",
    "print(site_7)"
   ]
  },
  {
   "cell_type": "code",
   "execution_count": 134,
   "metadata": {},
   "outputs": [
    {
     "name": "stdout",
     "output_type": "stream",
     "text": [
      "['朱辛庄', '育知路', '平西府', '回龙观东大街', '霍营', '育新', '西小口', '永泰庄', '林萃桥', '森林公园南门', '奥林匹克公园', '奥体中心', '北土城', '安华桥', '安德里北街', '鼓楼大街', '什刹海', '南锣鼓巷', '中国美术馆']\n",
      "['瀛海', '德茂', '五福堂', '火箭万源', '东高地', '和义', '大红门南', '大红门', '海户屯', '木樨园', '永定门外', '天桥', '珠市口']\n"
     ]
    }
   ],
   "source": [
    "# 8号线分为南北两段\n",
    "pattern_8 = re.compile(r'<tr><th width=\"\\d+\">(\\w+)</th>')\n",
    "html_8 = get_html(url_dict['北京地铁8号线'])\n",
    "site_8 = pattern_8.findall(html_8)\n",
    "site_8.pop(0)\n",
    "site_8_north = site_8[:19]\n",
    "print(site_8_north)\n",
    "site_8_south = site_8[19:]\n",
    "print(site_8_south)"
   ]
  },
  {
   "cell_type": "code",
   "execution_count": 135,
   "metadata": {},
   "outputs": [
    {
     "name": "stdout",
     "output_type": "stream",
     "text": [
      "['郭公庄', '丰台科技园', '科怡路', '丰台南路', '丰台东大街', '七里庄', '六里桥', '六里桥东', '北京西站', '军事博物馆', '白堆子', '白石桥南', '国家图书馆']\n"
     ]
    }
   ],
   "source": [
    "pattern_9 = re.compile(r'</tr><tr><th>(\\w+)</th>')\n",
    "html_9 = get_html(url_dict['北京地铁9号线'])\n",
    "site_9 = pattern_9.findall(html_9)\n",
    "print(site_9)"
   ]
  },
  {
   "cell_type": "code",
   "execution_count": 50,
   "metadata": {
    "scrolled": true
   },
   "outputs": [
    {
     "name": "stdout",
     "output_type": "stream",
     "text": [
      "['巴沟', '苏州街', '海淀黄庄', '知春里', '知春路', '西土城', '牡丹园', '健德门', '北土城', '安贞门', '惠新西街南口', '芍药居', '太阳宫', '三元桥', '亮马桥', '农业展览馆', '团结湖', '呼家楼', '金台夕照', '国贸', '双井', '劲松', '潘家园', '十里河', '分钟寺', '成寿寺', '宋家庄', '石榴庄', '大红门', '角门东', '角门西', '草桥', '纪家庙', '首经贸', '丰台站', '泥洼', '西局', '六里桥', '莲花桥', '公主坟', '西钓鱼台', '慈寿寺', '车道沟', '长春桥', '火器营']\n"
     ]
    }
   ],
   "source": [
    "pattern_10 = re.compile(r'</td></tr><tr><td width=\"57\" align=\"middle\" valign=\"center\">(\\w+)</td>')\n",
    "html_10 = get_html(url_dict['北京地铁10号线'])\n",
    "site_10 = pattern_10.findall(html_10)\n",
    "print(site_10)"
   ]
  },
  {
   "cell_type": "code",
   "execution_count": 52,
   "metadata": {},
   "outputs": [
    {
     "name": "stdout",
     "output_type": "stream",
     "text": [
      "['西直门', '大钟寺', '知春路', '五道口', '上地', '西二旗', '龙泽', '回龙观', '霍营', '立水桥', '北苑', '望京西', '芍药居', '光熙门', '柳芳', '东直门']\n"
     ]
    }
   ],
   "source": [
    "pattern_13 = re.compile(r'<tr><th align=\"center\" valign=\"middle\">(\\w+)</th>')\n",
    "html_13 = get_html(url_dict['北京地铁13号线'])\n",
    "site_13 = pattern_13.findall(html_13)\n",
    "site_13.pop(0)\n",
    "print(site_13)"
   ]
  },
  {
   "cell_type": "code",
   "execution_count": 58,
   "metadata": {},
   "outputs": [
    {
     "name": "stdout",
     "output_type": "stream",
     "text": [
      "['张郭庄', '园博园', '大瓦窑', '郭庄子', '大井', '七里庄', '西局']\n",
      "['永定门外', '景泰', '蒲黄榆', '方庄', '十里河', '北工大西门', '九龙山', '大望路', '金台路', '枣营', '东风北桥', '将台', '望京南', '阜通', '望京', '东湖渠', '来广营', '善各庄']\n"
     ]
    }
   ],
   "source": [
    "# 14号线分为东段和西段\n",
    "pattern_14 = re.compile(r'<tr><th align=\"center\" valign=\"middle\">(\\w+)</th>')\n",
    "html_14 = get_html(url_dict['北京地铁14号线'])\n",
    "site_14 = pattern_14.findall(html_14)\n",
    "# print(site_14)\n",
    "site_14_west = site_14[3:10]\n",
    "print(site_14_west)\n",
    "site_14_east = site_14[12:]\n",
    "print(site_14_east)"
   ]
  },
  {
   "cell_type": "code",
   "execution_count": 60,
   "metadata": {},
   "outputs": [
    {
     "name": "stdout",
     "output_type": "stream",
     "text": [
      "['俸伯', '顺义', '石门', '南法信', '后沙峪', '花梨坎', '国展', '孙河', '马泉营', '崔各庄', '望京东', '望京', '望京西', '关庄', '大屯路东', '安立路', '奥林匹克公园', '北沙滩', '六道口', '清华东路西口']\n"
     ]
    }
   ],
   "source": [
    "pattern_15 = re.compile(r'<tr><th align=\"center\" valign=\"middle\">(\\w+)</th>')\n",
    "html_15 = get_html(url_dict['北京地铁15号线'])\n",
    "site_15 = pattern_15.findall(html_15)\n",
    "site_15 = site_15[3:]\n",
    "print(site_15)"
   ]
  },
  {
   "cell_type": "code",
   "execution_count": 66,
   "metadata": {},
   "outputs": [
    {
     "name": "stdout",
     "output_type": "stream",
     "text": [
      "['西苑', '农大南路', '马连洼', '西北旺', '永丰南', '永丰', '屯佃', '稻香湖路', '温阳路', '北安河']\n"
     ]
    }
   ],
   "source": [
    "pattern_16 = re.compile(r'</tr><tr><th>(\\w+)</th>')\n",
    "html_16 = get_html(url_dict['北京地铁16号线'])\n",
    "site_16 = pattern_16.findall(html_16)\n",
    "site_16.pop(0)\n",
    "print(site_16)"
   ]
  },
  {
   "cell_type": "code",
   "execution_count": 75,
   "metadata": {},
   "outputs": [
    {
     "name": "stdout",
     "output_type": "stream",
     "text": [
      "['昌平西山口', '十三陵景区', '昌平', '昌平东关', '北邵洼', '南邵', '沙河高教园', '沙河', '巩华城', '朱辛庄', '生命科学园', '西二旗']\n"
     ]
    }
   ],
   "source": [
    "pattern_changping = re.compile(r'<tr><th[ width=\"98\"]*>(\\w+)</th>')\n",
    "html_changping = get_html(url_dict['北京地铁昌平线'])\n",
    "site_changping = pattern_changping.findall(html_changping)\n",
    "site_changping = site_changping[1:-4]\n",
    "print(site_changping)"
   ]
  },
  {
   "cell_type": "code",
   "execution_count": 77,
   "metadata": {},
   "outputs": [
    {
     "name": "stdout",
     "output_type": "stream",
     "text": [
      "['郭公庄', '大葆台', '稻田', '长阳', '篱笆房', '广阳城', '良乡大学城北', '良乡大学城', '良乡大学城西', '良乡南关', '苏庄', '阎村东']\n"
     ]
    }
   ],
   "source": [
    "pattern_fangshan = re.compile(r'</td></tr><tr><th[ align=\"center\" valign=\"middle\"]*>(\\w+)</th><td')\n",
    "html_fangshan = get_html(url_dict['北京地铁房山线'])\n",
    "site_fangshan = pattern_fangshan.findall(html_fangshan)\n",
    "print(site_fangshan)"
   ]
  },
  {
   "cell_type": "code",
   "execution_count": 99,
   "metadata": {},
   "outputs": [
    {
     "name": "stdout",
     "output_type": "stream",
     "text": [
      "['宋家庄', '肖村', '小红门', '旧宫', '亦庄桥', '亦庄文化园', '万源街', '荣京东街', '荣昌东街', '同济南路', '经海路', '次渠南', '次渠', '亦庄火车站']\n"
     ]
    }
   ],
   "source": [
    "pattern_yizhuang = re.compile(r'(\\w+站)</a>')\n",
    "html_yizhuang = get_html(url_dict['北京地铁亦庄线'])\n",
    "# print(html_yizhuang)\n",
    "site_yizhuang = pattern_yizhuang.findall(html_yizhuang)\n",
    "site_yizhuang = [i if '火车站' in i else i[:-1] for i in site_yizhuang[5:]]  \n",
    "print(site_yizhuang)"
   ]
  },
  {
   "cell_type": "code",
   "execution_count": 104,
   "metadata": {},
   "outputs": [
    {
     "name": "stdout",
     "output_type": "stream",
     "text": [
      "['燕山', '房山城关', '饶乐府', '马各庄', '大石河东', '星城', '阎村', '紫草坞', '阎村东']\n"
     ]
    }
   ],
   "source": [
    "pattern_yanfang = re.compile(r'<tr><th[ width=\"184\"]*>(\\w+)</th>')\n",
    "html_yanfang = get_html(url_dict['北京地铁燕房线'])\n",
    "site_yanfang = pattern_yanfang.findall(html_yanfang)\n",
    "site_yanfang = site_yanfang[2:]\n",
    "print(site_yanfang)"
   ]
  },
  {
   "cell_type": "code",
   "execution_count": 106,
   "metadata": {},
   "outputs": [
    {
     "name": "stdout",
     "output_type": "stream",
     "text": [
      "['东直门站', '三元桥', '3号航站楼', '2号航站楼']\n"
     ]
    }
   ],
   "source": [
    "pattern_jichang = re.compile(r'</td></tr><tr><th align=\"center\" valign=\"middle\">(\\w+)</th>')\n",
    "html_jichang = get_html(url_dict['北京地铁机场线'])\n",
    "site_jichang = pattern_jichang.findall(html_jichang)\n",
    "print(site_jichang)"
   ]
  },
  {
   "cell_type": "code",
   "execution_count": 108,
   "metadata": {},
   "outputs": [
    {
     "name": "stdout",
     "output_type": "stream",
     "text": [
      "['四惠', '四惠东', '高碑店', '传媒大学', '双桥', '管庄', '八里桥', '通州北苑', '果园', '九棵树', '梨园', '临河里', '土桥']\n"
     ]
    }
   ],
   "source": [
    "pattern_batong = re.compile(r'<tr><th align=\"center\" valign=\"middle\">(\\w+)</th>')\n",
    "html_batong = get_html('https://baike.baidu.com/item/%E5%8C%97%E4%BA%AC%E5%9C%B0%E9%93%81%E5%85%AB%E9%80%9A%E7%BA%BF')\n",
    "site_batong = pattern_batong.findall(html_batong)[2:]\n",
    "print(site_batong)"
   ]
  },
  {
   "cell_type": "code",
   "execution_count": 114,
   "metadata": {},
   "outputs": [
    {
     "name": "stdout",
     "output_type": "stream",
     "text": [
      "['巴沟', '颐和园西门', '茶棚', '万安', '植物园', '香山']\n"
     ]
    }
   ],
   "source": [
    "pattern_xijiao = re.compile(r'<tr><td width=\"\\d+\" valign=\"top\">(\\w+)站</td>')\n",
    "html_xijiao = get_html('https://baike.baidu.com/item/%E5%8C%97%E4%BA%AC%E7%8E%B0%E4%BB%A3%E6%9C%89%E8%BD%A8%E7%94%B5%E8%BD%A6%E8%A5%BF%E9%83%8A%E7%BA%BF')\n",
    "site_xijiao = pattern_xijiao.findall(html_xijiao)\n",
    "print(site_xijiao)"
   ]
  },
  {
   "cell_type": "code",
   "execution_count": 116,
   "metadata": {},
   "outputs": [
    {
     "name": "stdout",
     "output_type": "stream",
     "text": [
      "['金安桥', '四道桥', '桥户营', '上岸', '栗园庄', '小园', '石厂']\n"
     ]
    }
   ],
   "source": [
    "pattern_s1 = re.compile(r'<tr><td width=\"130\" align=\"center\" valign=\"top\">(\\w+)站</td>')\n",
    "html_s1 = get_html('https://baike.baidu.com/item/%E5%8C%97%E4%BA%AC%E5%9C%B0%E9%93%81S1%E7%BA%BF')\n",
    "site_s1 = pattern_s1.findall(html_s1)\n",
    "print(site_s1)"
   ]
  },
  {
   "cell_type": "markdown",
   "metadata": {},
   "source": [
    "## 构建连接表"
   ]
  },
  {
   "cell_type": "code",
   "execution_count": 208,
   "metadata": {},
   "outputs": [],
   "source": [
    "site_dict ={}"
   ]
  },
  {
   "cell_type": "code",
   "execution_count": 209,
   "metadata": {},
   "outputs": [],
   "source": [
    "site_dict['北京地铁1号线'] = site_1\n",
    "site_dict['北京地铁2号线'] = site_2\n",
    "site_dict['北京地铁4号线'] = site_4\n",
    "site_dict['北京地铁5号线'] = site_5\n",
    "site_dict['北京地铁6号线'] = site_6\n",
    "site_dict['北京地铁7号线'] = site_7\n",
    "site_dict['北京地铁8号线北段'] = site_8_north\n",
    "site_dict['北京地铁8号线南段'] = site_8_south\n",
    "site_dict['北京地铁9号线'] = site_9\n",
    "site_dict['北京地铁10号线'] = site_10\n",
    "site_dict['北京地铁13号线'] = site_13\n",
    "site_dict['北京地铁14号线东段'] = site_14_east\n",
    "site_dict['北京地铁14号线西段'] = site_14_west\n",
    "site_dict['北京地铁15号线'] = site_15\n",
    "site_dict['北京地铁16号线'] = site_16\n",
    "site_dict['北京地铁昌平线'] = site_changping\n",
    "site_dict['北京地铁房山线'] = site_fangshan\n",
    "site_dict['北京地铁亦庄线'] = site_yizhuang\n",
    "site_dict['北京地铁燕房线'] = site_yanfang\n",
    "site_dict['北京地铁机场线'] = site_jichang\n",
    "site_dict['北京地铁房山线'] = site_fangshan\n",
    "site_dict['北京地铁八通线'] = site_batong\n",
    "site_dict['北京地铁西郊线'] = site_xijiao\n",
    "site_dict['北京地铁s1线'] = site_s1"
   ]
  },
  {
   "cell_type": "code",
   "execution_count": 210,
   "metadata": {},
   "outputs": [
    {
     "data": {
      "text/plain": [
       "{'北京地铁1号线': ['苹果园',\n",
       "  '古城',\n",
       "  '八角游乐园',\n",
       "  '八宝山',\n",
       "  '玉泉路',\n",
       "  '五棵松',\n",
       "  '万寿路',\n",
       "  '公主坟',\n",
       "  '军事博物馆',\n",
       "  '木樨地',\n",
       "  '南礼士路',\n",
       "  '复兴门',\n",
       "  '西单',\n",
       "  '天安门西',\n",
       "  '天安门东',\n",
       "  '王府井',\n",
       "  '东单',\n",
       "  '建国门',\n",
       "  '永安里',\n",
       "  '国贸',\n",
       "  '大望路',\n",
       "  '四惠',\n",
       "  '四惠东'],\n",
       " '北京地铁2号线': ['西直门',\n",
       "  '积水潭',\n",
       "  '鼓楼大街',\n",
       "  '安定门',\n",
       "  '雍和宫',\n",
       "  '东直门',\n",
       "  '东四十条',\n",
       "  '朝阳门',\n",
       "  '建国门',\n",
       "  '北京站',\n",
       "  '崇文门',\n",
       "  '前门',\n",
       "  '和平门',\n",
       "  '宣武门',\n",
       "  '长椿街',\n",
       "  '复兴门',\n",
       "  '阜成门',\n",
       "  '车公庄'],\n",
       " '北京地铁4号线': ['安河桥北',\n",
       "  '北宫门',\n",
       "  '西苑',\n",
       "  '圆明园',\n",
       "  '北京大学东门',\n",
       "  '中关村',\n",
       "  '海淀黄庄',\n",
       "  '人民大学',\n",
       "  '魏公村',\n",
       "  '国家图书馆',\n",
       "  '动物园',\n",
       "  '西直门',\n",
       "  '新街口',\n",
       "  '平安里',\n",
       "  '西四',\n",
       "  '灵境胡同',\n",
       "  '西单',\n",
       "  '宣武门',\n",
       "  '菜市口',\n",
       "  '陶然亭',\n",
       "  '北京南站',\n",
       "  '马家堡',\n",
       "  '角门西',\n",
       "  '公益西桥'],\n",
       " '北京地铁5号线': ['宋家庄',\n",
       "  '刘家窑',\n",
       "  '蒲黄榆',\n",
       "  '天坛东门',\n",
       "  '磁器口',\n",
       "  '崇文门',\n",
       "  '东单',\n",
       "  '灯市口',\n",
       "  '东四',\n",
       "  '张自忠路',\n",
       "  '北新桥',\n",
       "  '雍和宫',\n",
       "  '和平里北街',\n",
       "  '和平西桥',\n",
       "  '惠新西街南口',\n",
       "  '惠新西街北口',\n",
       "  '大屯路东',\n",
       "  '北苑路北',\n",
       "  '立水桥南',\n",
       "  '立水桥',\n",
       "  '天通苑南',\n",
       "  '天通苑',\n",
       "  '天通苑北'],\n",
       " '北京地铁6号线': ['金安桥',\n",
       "  '苹果园',\n",
       "  '杨庄',\n",
       "  '西黄村',\n",
       "  '廖公庄',\n",
       "  '田村',\n",
       "  '海淀五路居',\n",
       "  '慈寿寺',\n",
       "  '花园桥',\n",
       "  '白石桥南',\n",
       "  '车公庄西',\n",
       "  '车公庄',\n",
       "  '平安里',\n",
       "  '北海北',\n",
       "  '南锣鼓巷',\n",
       "  '东四',\n",
       "  '朝阳门',\n",
       "  '东大桥',\n",
       "  '呼家楼',\n",
       "  '金台路',\n",
       "  '十里堡',\n",
       "  '青年路',\n",
       "  '褡裢坡',\n",
       "  '黄渠',\n",
       "  '常营',\n",
       "  '草房',\n",
       "  '物资学院路',\n",
       "  '通州北关',\n",
       "  '通运门',\n",
       "  '北运河西',\n",
       "  '北运河东',\n",
       "  '郝家府',\n",
       "  '东夏园',\n",
       "  '潞城'],\n",
       " '北京地铁7号线': ['北京西站',\n",
       "  '湾子',\n",
       "  '达官营',\n",
       "  '广安门内',\n",
       "  '菜市口',\n",
       "  '虎坊桥',\n",
       "  '珠市口',\n",
       "  '桥湾',\n",
       "  '磁器口',\n",
       "  '广渠门内',\n",
       "  '广渠门外',\n",
       "  '双井',\n",
       "  '九龙山',\n",
       "  '大郊亭',\n",
       "  '百子湾',\n",
       "  '化工',\n",
       "  '南楼梓庄',\n",
       "  '欢乐谷景区',\n",
       "  '垡头',\n",
       "  '双合',\n",
       "  '焦化厂'],\n",
       " '北京地铁8号线北段': ['朱辛庄',\n",
       "  '育知路',\n",
       "  '平西府',\n",
       "  '回龙观东大街',\n",
       "  '霍营',\n",
       "  '育新',\n",
       "  '西小口',\n",
       "  '永泰庄',\n",
       "  '林萃桥',\n",
       "  '森林公园南门',\n",
       "  '奥林匹克公园',\n",
       "  '奥体中心',\n",
       "  '北土城',\n",
       "  '安华桥',\n",
       "  '安德里北街',\n",
       "  '鼓楼大街',\n",
       "  '什刹海',\n",
       "  '南锣鼓巷',\n",
       "  '中国美术馆'],\n",
       " '北京地铁8号线南段': ['瀛海',\n",
       "  '德茂',\n",
       "  '五福堂',\n",
       "  '火箭万源',\n",
       "  '东高地',\n",
       "  '和义',\n",
       "  '大红门南',\n",
       "  '大红门',\n",
       "  '海户屯',\n",
       "  '木樨园',\n",
       "  '永定门外',\n",
       "  '天桥',\n",
       "  '珠市口'],\n",
       " '北京地铁9号线': ['郭公庄',\n",
       "  '丰台科技园',\n",
       "  '科怡路',\n",
       "  '丰台南路',\n",
       "  '丰台东大街',\n",
       "  '七里庄',\n",
       "  '六里桥',\n",
       "  '六里桥东',\n",
       "  '北京西站',\n",
       "  '军事博物馆',\n",
       "  '白堆子',\n",
       "  '白石桥南',\n",
       "  '国家图书馆'],\n",
       " '北京地铁10号线': ['巴沟',\n",
       "  '苏州街',\n",
       "  '海淀黄庄',\n",
       "  '知春里',\n",
       "  '知春路',\n",
       "  '西土城',\n",
       "  '牡丹园',\n",
       "  '健德门',\n",
       "  '北土城',\n",
       "  '安贞门',\n",
       "  '惠新西街南口',\n",
       "  '芍药居',\n",
       "  '太阳宫',\n",
       "  '三元桥',\n",
       "  '亮马桥',\n",
       "  '农业展览馆',\n",
       "  '团结湖',\n",
       "  '呼家楼',\n",
       "  '金台夕照',\n",
       "  '国贸',\n",
       "  '双井',\n",
       "  '劲松',\n",
       "  '潘家园',\n",
       "  '十里河',\n",
       "  '分钟寺',\n",
       "  '成寿寺',\n",
       "  '宋家庄',\n",
       "  '石榴庄',\n",
       "  '大红门',\n",
       "  '角门东',\n",
       "  '角门西',\n",
       "  '草桥',\n",
       "  '纪家庙',\n",
       "  '首经贸',\n",
       "  '丰台站',\n",
       "  '泥洼',\n",
       "  '西局',\n",
       "  '六里桥',\n",
       "  '莲花桥',\n",
       "  '公主坟',\n",
       "  '西钓鱼台',\n",
       "  '慈寿寺',\n",
       "  '车道沟',\n",
       "  '长春桥',\n",
       "  '火器营'],\n",
       " '北京地铁13号线': ['西直门',\n",
       "  '大钟寺',\n",
       "  '知春路',\n",
       "  '五道口',\n",
       "  '上地',\n",
       "  '西二旗',\n",
       "  '龙泽',\n",
       "  '回龙观',\n",
       "  '霍营',\n",
       "  '立水桥',\n",
       "  '北苑',\n",
       "  '望京西',\n",
       "  '芍药居',\n",
       "  '光熙门',\n",
       "  '柳芳',\n",
       "  '东直门'],\n",
       " '北京地铁14号线东段': ['永定门外',\n",
       "  '景泰',\n",
       "  '蒲黄榆',\n",
       "  '方庄',\n",
       "  '十里河',\n",
       "  '北工大西门',\n",
       "  '九龙山',\n",
       "  '大望路',\n",
       "  '金台路',\n",
       "  '枣营',\n",
       "  '东风北桥',\n",
       "  '将台',\n",
       "  '望京南',\n",
       "  '阜通',\n",
       "  '望京',\n",
       "  '东湖渠',\n",
       "  '来广营',\n",
       "  '善各庄'],\n",
       " '北京地铁14号线西段': ['张郭庄', '园博园', '大瓦窑', '郭庄子', '大井', '七里庄', '西局'],\n",
       " '北京地铁15号线': ['俸伯',\n",
       "  '顺义',\n",
       "  '石门',\n",
       "  '南法信',\n",
       "  '后沙峪',\n",
       "  '花梨坎',\n",
       "  '国展',\n",
       "  '孙河',\n",
       "  '马泉营',\n",
       "  '崔各庄',\n",
       "  '望京东',\n",
       "  '望京',\n",
       "  '望京西',\n",
       "  '关庄',\n",
       "  '大屯路东',\n",
       "  '安立路',\n",
       "  '奥林匹克公园',\n",
       "  '北沙滩',\n",
       "  '六道口',\n",
       "  '清华东路西口'],\n",
       " '北京地铁16号线': ['西苑',\n",
       "  '农大南路',\n",
       "  '马连洼',\n",
       "  '西北旺',\n",
       "  '永丰南',\n",
       "  '永丰',\n",
       "  '屯佃',\n",
       "  '稻香湖路',\n",
       "  '温阳路',\n",
       "  '北安河'],\n",
       " '北京地铁昌平线': ['昌平西山口',\n",
       "  '十三陵景区',\n",
       "  '昌平',\n",
       "  '昌平东关',\n",
       "  '北邵洼',\n",
       "  '南邵',\n",
       "  '沙河高教园',\n",
       "  '沙河',\n",
       "  '巩华城',\n",
       "  '朱辛庄',\n",
       "  '生命科学园',\n",
       "  '西二旗'],\n",
       " '北京地铁房山线': ['郭公庄',\n",
       "  '大葆台',\n",
       "  '稻田',\n",
       "  '长阳',\n",
       "  '篱笆房',\n",
       "  '广阳城',\n",
       "  '良乡大学城北',\n",
       "  '良乡大学城',\n",
       "  '良乡大学城西',\n",
       "  '良乡南关',\n",
       "  '苏庄',\n",
       "  '阎村东'],\n",
       " '北京地铁亦庄线': ['宋家庄',\n",
       "  '肖村',\n",
       "  '小红门',\n",
       "  '旧宫',\n",
       "  '亦庄桥',\n",
       "  '亦庄文化园',\n",
       "  '万源街',\n",
       "  '荣京东街',\n",
       "  '荣昌东街',\n",
       "  '同济南路',\n",
       "  '经海路',\n",
       "  '次渠南',\n",
       "  '次渠',\n",
       "  '亦庄火车站'],\n",
       " '北京地铁燕房线': ['燕山', '房山城关', '饶乐府', '马各庄', '大石河东', '星城', '阎村', '紫草坞', '阎村东'],\n",
       " '北京地铁机场线': ['东直门站', '三元桥', '3号航站楼', '2号航站楼'],\n",
       " '北京地铁八通线': ['四惠',\n",
       "  '四惠东',\n",
       "  '高碑店',\n",
       "  '传媒大学',\n",
       "  '双桥',\n",
       "  '管庄',\n",
       "  '八里桥',\n",
       "  '通州北苑',\n",
       "  '果园',\n",
       "  '九棵树',\n",
       "  '梨园',\n",
       "  '临河里',\n",
       "  '土桥'],\n",
       " '北京地铁西郊线': ['巴沟', '颐和园西门', '茶棚', '万安', '植物园', '香山'],\n",
       " '北京地铁s1线': ['金安桥', '四道桥', '桥户营', '上岸', '栗园庄', '小园', '石厂']}"
      ]
     },
     "execution_count": 210,
     "metadata": {},
     "output_type": "execute_result"
    }
   ],
   "source": [
    "site_dict"
   ]
  },
  {
   "cell_type": "code",
   "execution_count": 145,
   "metadata": {},
   "outputs": [
    {
     "data": {
      "text/plain": [
       "['苹果园',\n",
       " '古城',\n",
       " '八角游乐园',\n",
       " '八宝山',\n",
       " '玉泉路',\n",
       " '五棵松',\n",
       " '万寿路',\n",
       " '公主坟',\n",
       " '军事博物馆',\n",
       " '木樨地',\n",
       " '南礼士路',\n",
       " '复兴门',\n",
       " '西单',\n",
       " '天安门西',\n",
       " '天安门东',\n",
       " '王府井',\n",
       " '东单',\n",
       " '建国门',\n",
       " '永安里',\n",
       " '国贸',\n",
       " '大望路',\n",
       " '四惠',\n",
       " '四惠东']"
      ]
     },
     "execution_count": 145,
     "metadata": {},
     "output_type": "execute_result"
    }
   ],
   "source": [
    "site_dict['北京地铁1号线']"
   ]
  },
  {
   "cell_type": "code",
   "execution_count": 138,
   "metadata": {},
   "outputs": [],
   "source": [
    "from collections import defaultdict"
   ]
  },
  {
   "cell_type": "code",
   "execution_count": 139,
   "metadata": {},
   "outputs": [],
   "source": [
    "site_connection = defaultdict(list)"
   ]
  },
  {
   "cell_type": "code",
   "execution_count": 141,
   "metadata": {},
   "outputs": [],
   "source": [
    "for subway_num, site_list in site_dict.items():\n",
    "    for i, site in enumerate(site_list):\n",
    "        if i == 0: \n",
    "            if site_list[i+1] not in site_connection[site]:\n",
    "                site_connection[site].append(site_list[i+1])\n",
    "        elif i == len(site_list)-1: \n",
    "            if site_list[i-1] not in site_connection[site]:\n",
    "                site_connection[site].append(site_list[i-1])\n",
    "        else: \n",
    "            if site_list[i-1] not in site_connection[site]:\n",
    "                site_connection[site].append(site_list[i-1])\n",
    "            if site_list[i+1] not in site_connection[site]:\n",
    "                site_connection[site].append(site_list[i+1])"
   ]
  },
  {
   "cell_type": "code",
   "execution_count": 142,
   "metadata": {},
   "outputs": [
    {
     "data": {
      "text/plain": [
       "defaultdict(list,\n",
       "            {'苹果园': ['古城', '金安桥', '杨庄'],\n",
       "             '古城': ['苹果园', '八角游乐园'],\n",
       "             '八角游乐园': ['古城', '八宝山'],\n",
       "             '八宝山': ['八角游乐园', '玉泉路'],\n",
       "             '玉泉路': ['八宝山', '五棵松'],\n",
       "             '五棵松': ['玉泉路', '万寿路'],\n",
       "             '万寿路': ['五棵松', '公主坟'],\n",
       "             '公主坟': ['万寿路', '军事博物馆', '莲花桥', '西钓鱼台'],\n",
       "             '军事博物馆': ['公主坟', '木樨地', '北京西站', '白堆子'],\n",
       "             '木樨地': ['军事博物馆', '南礼士路'],\n",
       "             '南礼士路': ['木樨地', '复兴门'],\n",
       "             '复兴门': ['南礼士路', '西单', '长椿街', '阜成门'],\n",
       "             '西单': ['复兴门', '天安门西', '灵境胡同', '宣武门'],\n",
       "             '天安门西': ['西单', '天安门东'],\n",
       "             '天安门东': ['天安门西', '王府井'],\n",
       "             '王府井': ['天安门东', '东单'],\n",
       "             '东单': ['王府井', '建国门', '崇文门', '灯市口'],\n",
       "             '建国门': ['东单', '永安里', '朝阳门', '北京站'],\n",
       "             '永安里': ['建国门', '国贸'],\n",
       "             '国贸': ['永安里', '大望路', '金台夕照', '双井'],\n",
       "             '大望路': ['国贸', '四惠', '九龙山', '金台路'],\n",
       "             '四惠': ['大望路', '四惠东'],\n",
       "             '四惠东': ['四惠', '高碑店'],\n",
       "             '西直门': ['积水潭', '动物园', '新街口', '大钟寺'],\n",
       "             '积水潭': ['西直门', '鼓楼大街'],\n",
       "             '鼓楼大街': ['积水潭', '安定门', '安德里北街', '什刹海'],\n",
       "             '安定门': ['鼓楼大街', '雍和宫'],\n",
       "             '雍和宫': ['安定门', '东直门', '北新桥', '和平里北街'],\n",
       "             '东直门': ['雍和宫', '东四十条', '柳芳'],\n",
       "             '东四十条': ['东直门', '朝阳门'],\n",
       "             '朝阳门': ['东四十条', '建国门', '东四', '东大桥'],\n",
       "             '北京站': ['建国门', '崇文门'],\n",
       "             '崇文门': ['北京站', '前门', '磁器口', '东单'],\n",
       "             '前门': ['崇文门', '和平门'],\n",
       "             '和平门': ['前门', '宣武门'],\n",
       "             '宣武门': ['和平门', '长椿街', '西单', '菜市口'],\n",
       "             '长椿街': ['宣武门', '复兴门'],\n",
       "             '阜成门': ['复兴门', '车公庄'],\n",
       "             '车公庄': ['阜成门', '车公庄西', '平安里'],\n",
       "             '安河桥北': ['北宫门'],\n",
       "             '北宫门': ['安河桥北', '西苑'],\n",
       "             '西苑': ['北宫门', '圆明园', '农大南路'],\n",
       "             '圆明园': ['西苑', '北京大学东门'],\n",
       "             '北京大学东门': ['圆明园', '中关村'],\n",
       "             '中关村': ['北京大学东门', '海淀黄庄'],\n",
       "             '海淀黄庄': ['中关村', '人民大学', '苏州街', '知春里'],\n",
       "             '人民大学': ['海淀黄庄', '魏公村'],\n",
       "             '魏公村': ['人民大学', '国家图书馆'],\n",
       "             '国家图书馆': ['魏公村', '动物园', '白石桥南'],\n",
       "             '动物园': ['国家图书馆', '西直门'],\n",
       "             '新街口': ['西直门', '平安里'],\n",
       "             '平安里': ['新街口', '西四', '车公庄', '北海北'],\n",
       "             '西四': ['平安里', '灵境胡同'],\n",
       "             '灵境胡同': ['西四', '西单'],\n",
       "             '菜市口': ['宣武门', '陶然亭', '广安门内', '虎坊桥'],\n",
       "             '陶然亭': ['菜市口', '北京南站'],\n",
       "             '北京南站': ['陶然亭', '马家堡', '车站名称', '永定门外'],\n",
       "             '马家堡': ['北京南站', '角门西'],\n",
       "             '角门西': ['马家堡', '公益西桥', '角门东', '草桥'],\n",
       "             '公益西桥': ['角门西'],\n",
       "             '宋家庄': ['刘家窑', '成寿寺', '石榴庄', '肖村'],\n",
       "             '刘家窑': ['宋家庄', '蒲黄榆'],\n",
       "             '蒲黄榆': ['刘家窑', '天坛东门', '景泰', '方庄'],\n",
       "             '天坛东门': ['蒲黄榆', '磁器口'],\n",
       "             '磁器口': ['天坛东门', '崇文门', '桥湾', '广渠门内'],\n",
       "             '灯市口': ['东单', '东四'],\n",
       "             '东四': ['灯市口', '张自忠路', '南锣鼓巷', '朝阳门'],\n",
       "             '张自忠路': ['东四', '北新桥'],\n",
       "             '北新桥': ['张自忠路', '雍和宫'],\n",
       "             '和平里北街': ['雍和宫', '和平西桥'],\n",
       "             '和平西桥': ['和平里北街', '惠新西街南口'],\n",
       "             '惠新西街南口': ['和平西桥', '惠新西街北口', '安贞门', '芍药居'],\n",
       "             '惠新西街北口': ['惠新西街南口', '大屯路东'],\n",
       "             '大屯路东': ['惠新西街北口', '北苑路北', '关庄', '安立路'],\n",
       "             '北苑路北': ['大屯路东', '立水桥南'],\n",
       "             '立水桥南': ['北苑路北', '立水桥'],\n",
       "             '立水桥': ['立水桥南', '天通苑南', '霍营', '北苑'],\n",
       "             '天通苑南': ['立水桥', '天通苑'],\n",
       "             '天通苑': ['天通苑南', '天通苑北'],\n",
       "             '天通苑北': ['天通苑'],\n",
       "             '金安桥': ['苹果园', '四道桥'],\n",
       "             '杨庄': ['苹果园', '西黄村'],\n",
       "             '西黄村': ['杨庄', '廖公庄'],\n",
       "             '廖公庄': ['西黄村', '田村'],\n",
       "             '田村': ['廖公庄', '海淀五路居'],\n",
       "             '海淀五路居': ['田村', '慈寿寺'],\n",
       "             '慈寿寺': ['海淀五路居', '花园桥', '西钓鱼台', '车道沟'],\n",
       "             '花园桥': ['慈寿寺', '白石桥南'],\n",
       "             '白石桥南': ['花园桥', '车公庄西', '白堆子', '国家图书馆'],\n",
       "             '车公庄西': ['白石桥南', '车公庄'],\n",
       "             '北海北': ['平安里', '南锣鼓巷'],\n",
       "             '南锣鼓巷': ['北海北', '东四', '什刹海', '中国美术馆'],\n",
       "             '东大桥': ['朝阳门', '呼家楼'],\n",
       "             '呼家楼': ['东大桥', '金台路', '团结湖', '金台夕照'],\n",
       "             '金台路': ['呼家楼', '十里堡', '大望路', '枣营'],\n",
       "             '十里堡': ['金台路', '青年路'],\n",
       "             '青年路': ['十里堡', '褡裢坡'],\n",
       "             '褡裢坡': ['青年路', '黄渠'],\n",
       "             '黄渠': ['褡裢坡', '常营'],\n",
       "             '常营': ['黄渠', '草房'],\n",
       "             '草房': ['常营', '物资学院路'],\n",
       "             '物资学院路': ['草房', '通州北关'],\n",
       "             '通州北关': ['物资学院路', '通运门'],\n",
       "             '通运门': ['通州北关', '北运河西'],\n",
       "             '北运河西': ['通运门', '北运河东'],\n",
       "             '北运河东': ['北运河西', '郝家府'],\n",
       "             '郝家府': ['北运河东', '东夏园'],\n",
       "             '东夏园': ['郝家府', '潞城'],\n",
       "             '潞城': ['东夏园'],\n",
       "             '北京西站': ['湾子', '六里桥东', '军事博物馆'],\n",
       "             '湾子': ['北京西站', '达官营'],\n",
       "             '达官营': ['湾子', '广安门内'],\n",
       "             '广安门内': ['达官营', '菜市口'],\n",
       "             '虎坊桥': ['菜市口', '珠市口'],\n",
       "             '珠市口': ['虎坊桥', '桥湾', '天桥'],\n",
       "             '桥湾': ['珠市口', '磁器口'],\n",
       "             '广渠门内': ['磁器口', '广渠门外'],\n",
       "             '广渠门外': ['广渠门内', '双井'],\n",
       "             '双井': ['广渠门外', '九龙山', '国贸', '劲松'],\n",
       "             '九龙山': ['双井', '大郊亭', '北工大西门', '大望路'],\n",
       "             '大郊亭': ['九龙山', '百子湾'],\n",
       "             '百子湾': ['大郊亭', '化工'],\n",
       "             '化工': ['百子湾', '南楼梓庄'],\n",
       "             '南楼梓庄': ['化工', '欢乐谷景区'],\n",
       "             '欢乐谷景区': ['南楼梓庄', '垡头'],\n",
       "             '垡头': ['欢乐谷景区', '双合'],\n",
       "             '双合': ['垡头', '焦化厂'],\n",
       "             '焦化厂': ['双合'],\n",
       "             '朱辛庄': ['育知路', '巩华城', '生命科学园'],\n",
       "             '育知路': ['朱辛庄', '平西府'],\n",
       "             '平西府': ['育知路', '回龙观东大街'],\n",
       "             '回龙观东大街': ['平西府', '霍营'],\n",
       "             '霍营': ['回龙观东大街', '育新', '回龙观', '立水桥'],\n",
       "             '育新': ['霍营', '西小口'],\n",
       "             '西小口': ['育新', '永泰庄'],\n",
       "             '永泰庄': ['西小口', '林萃桥'],\n",
       "             '林萃桥': ['永泰庄', '森林公园南门'],\n",
       "             '森林公园南门': ['林萃桥', '奥林匹克公园'],\n",
       "             '奥林匹克公园': ['森林公园南门', '奥体中心', '安立路', '北沙滩'],\n",
       "             '奥体中心': ['奥林匹克公园', '北土城'],\n",
       "             '北土城': ['奥体中心', '安华桥', '健德门', '安贞门'],\n",
       "             '安华桥': ['北土城', '安德里北街'],\n",
       "             '安德里北街': ['安华桥', '鼓楼大街'],\n",
       "             '什刹海': ['鼓楼大街', '南锣鼓巷'],\n",
       "             '中国美术馆': ['南锣鼓巷', '瀛海'],\n",
       "             '瀛海': ['中国美术馆', '德茂'],\n",
       "             '德茂': ['瀛海', '五福堂'],\n",
       "             '五福堂': ['德茂', '火箭万源'],\n",
       "             '火箭万源': ['五福堂', '东高地'],\n",
       "             '东高地': ['火箭万源', '和义'],\n",
       "             '和义': ['东高地', '大红门南'],\n",
       "             '大红门南': ['和义', '大红门'],\n",
       "             '大红门': ['大红门南', '海户屯', '石榴庄', '角门东'],\n",
       "             '海户屯': ['大红门', '木樨园'],\n",
       "             '木樨园': ['海户屯', '永定门外'],\n",
       "             '永定门外': ['木樨园', '天桥', '北京南站', '景泰'],\n",
       "             '天桥': ['永定门外', '珠市口'],\n",
       "             '郭公庄': ['丰台科技园', '大葆台'],\n",
       "             '丰台科技园': ['郭公庄', '科怡路'],\n",
       "             '科怡路': ['丰台科技园', '丰台南路'],\n",
       "             '丰台南路': ['科怡路', '丰台东大街'],\n",
       "             '丰台东大街': ['丰台南路', '七里庄'],\n",
       "             '七里庄': ['丰台东大街', '六里桥', '大井', '西局'],\n",
       "             '六里桥': ['七里庄', '六里桥东', '西局', '莲花桥'],\n",
       "             '六里桥东': ['六里桥', '北京西站'],\n",
       "             '白堆子': ['军事博物馆', '白石桥南'],\n",
       "             '巴沟': ['苏州街', '颐和园西门'],\n",
       "             '苏州街': ['巴沟', '海淀黄庄'],\n",
       "             '知春里': ['海淀黄庄', '知春路'],\n",
       "             '知春路': ['知春里', '西土城', '大钟寺', '五道口'],\n",
       "             '西土城': ['知春路', '牡丹园'],\n",
       "             '牡丹园': ['西土城', '健德门'],\n",
       "             '健德门': ['牡丹园', '北土城'],\n",
       "             '安贞门': ['北土城', '惠新西街南口'],\n",
       "             '芍药居': ['惠新西街南口', '太阳宫', '望京西', '光熙门'],\n",
       "             '太阳宫': ['芍药居', '三元桥'],\n",
       "             '三元桥': ['太阳宫', '亮马桥', '东直门站', '3号航站楼'],\n",
       "             '亮马桥': ['三元桥', '农业展览馆'],\n",
       "             '农业展览馆': ['亮马桥', '团结湖'],\n",
       "             '团结湖': ['农业展览馆', '呼家楼'],\n",
       "             '金台夕照': ['呼家楼', '国贸'],\n",
       "             '劲松': ['双井', '潘家园'],\n",
       "             '潘家园': ['劲松', '十里河'],\n",
       "             '十里河': ['潘家园', '分钟寺', '方庄', '北工大西门'],\n",
       "             '分钟寺': ['十里河', '成寿寺'],\n",
       "             '成寿寺': ['分钟寺', '宋家庄'],\n",
       "             '石榴庄': ['宋家庄', '大红门'],\n",
       "             '角门东': ['大红门', '角门西'],\n",
       "             '草桥': ['角门西', '纪家庙'],\n",
       "             '纪家庙': ['草桥', '首经贸'],\n",
       "             '首经贸': ['纪家庙', '丰台站'],\n",
       "             '丰台站': ['首经贸', '泥洼'],\n",
       "             '泥洼': ['丰台站', '西局'],\n",
       "             '西局': ['泥洼', '六里桥', '七里庄', '车站名称'],\n",
       "             '莲花桥': ['六里桥', '公主坟'],\n",
       "             '西钓鱼台': ['公主坟', '慈寿寺'],\n",
       "             '车道沟': ['慈寿寺', '长春桥'],\n",
       "             '长春桥': ['车道沟', '火器营'],\n",
       "             '火器营': ['长春桥'],\n",
       "             '大钟寺': ['西直门', '知春路'],\n",
       "             '五道口': ['知春路', '上地'],\n",
       "             '上地': ['五道口', '西二旗'],\n",
       "             '西二旗': ['上地', '龙泽', '生命科学园'],\n",
       "             '龙泽': ['西二旗', '回龙观'],\n",
       "             '回龙观': ['龙泽', '霍营'],\n",
       "             '北苑': ['立水桥', '望京西'],\n",
       "             '望京西': ['北苑', '芍药居', '望京', '关庄'],\n",
       "             '光熙门': ['芍药居', '柳芳'],\n",
       "             '柳芳': ['光熙门', '东直门'],\n",
       "             '车站名称': ['车站名称', '张郭庄', '西局', '北京南站'],\n",
       "             '张郭庄': ['车站名称', '园博园'],\n",
       "             '园博园': ['张郭庄', '大瓦窑'],\n",
       "             '大瓦窑': ['园博园', '郭庄子'],\n",
       "             '郭庄子': ['大瓦窑', '大井'],\n",
       "             '大井': ['郭庄子', '七里庄'],\n",
       "             '景泰': ['永定门外', '蒲黄榆'],\n",
       "             '方庄': ['蒲黄榆', '十里河'],\n",
       "             '北工大西门': ['十里河', '九龙山'],\n",
       "             '枣营': ['金台路', '东风北桥'],\n",
       "             '东风北桥': ['枣营', '将台'],\n",
       "             '将台': ['东风北桥', '望京南'],\n",
       "             '望京南': ['将台', '阜通'],\n",
       "             '阜通': ['望京南', '望京'],\n",
       "             '望京': ['阜通', '东湖渠', '望京东', '望京西'],\n",
       "             '东湖渠': ['望京', '来广营'],\n",
       "             '来广营': ['东湖渠', '善各庄'],\n",
       "             '善各庄': ['来广营'],\n",
       "             '俸伯': ['顺义'],\n",
       "             '顺义': ['俸伯', '石门'],\n",
       "             '石门': ['顺义', '南法信'],\n",
       "             '南法信': ['石门', '后沙峪'],\n",
       "             '后沙峪': ['南法信', '花梨坎'],\n",
       "             '花梨坎': ['后沙峪', '国展'],\n",
       "             '国展': ['花梨坎', '孙河'],\n",
       "             '孙河': ['国展', '马泉营'],\n",
       "             '马泉营': ['孙河', '崔各庄'],\n",
       "             '崔各庄': ['马泉营', '望京东'],\n",
       "             '望京东': ['崔各庄', '望京'],\n",
       "             '关庄': ['望京西', '大屯路东'],\n",
       "             '安立路': ['大屯路东', '奥林匹克公园'],\n",
       "             '北沙滩': ['奥林匹克公园', '六道口'],\n",
       "             '六道口': ['北沙滩', '清华东路西口'],\n",
       "             '清华东路西口': ['六道口'],\n",
       "             '农大南路': ['西苑', '马连洼'],\n",
       "             '马连洼': ['农大南路', '西北旺'],\n",
       "             '西北旺': ['马连洼', '永丰南'],\n",
       "             '永丰南': ['西北旺', '永丰'],\n",
       "             '永丰': ['永丰南', '屯佃'],\n",
       "             '屯佃': ['永丰', '稻香湖路'],\n",
       "             '稻香湖路': ['屯佃', '温阳路'],\n",
       "             '温阳路': ['稻香湖路', '北安河'],\n",
       "             '北安河': ['温阳路'],\n",
       "             '昌平西山口': ['十三陵景区'],\n",
       "             '十三陵景区': ['昌平西山口', '昌平'],\n",
       "             '昌平': ['十三陵景区', '昌平东关'],\n",
       "             '昌平东关': ['昌平', '北邵洼'],\n",
       "             '北邵洼': ['昌平东关', '南邵'],\n",
       "             '南邵': ['北邵洼', '沙河高教园'],\n",
       "             '沙河高教园': ['南邵', '沙河'],\n",
       "             '沙河': ['沙河高教园', '巩华城'],\n",
       "             '巩华城': ['沙河', '朱辛庄'],\n",
       "             '生命科学园': ['朱辛庄', '西二旗'],\n",
       "             '大葆台': ['郭公庄', '稻田'],\n",
       "             '稻田': ['大葆台', '长阳'],\n",
       "             '长阳': ['稻田', '篱笆房'],\n",
       "             '篱笆房': ['长阳', '广阳城'],\n",
       "             '广阳城': ['篱笆房', '良乡大学城北'],\n",
       "             '良乡大学城北': ['广阳城', '良乡大学城'],\n",
       "             '良乡大学城': ['良乡大学城北', '良乡大学城西'],\n",
       "             '良乡大学城西': ['良乡大学城', '良乡南关'],\n",
       "             '良乡南关': ['良乡大学城西', '苏庄'],\n",
       "             '苏庄': ['良乡南关', '阎村东'],\n",
       "             '阎村东': ['苏庄', '紫草坞'],\n",
       "             '肖村': ['宋家庄', '小红门'],\n",
       "             '小红门': ['肖村', '旧宫'],\n",
       "             '旧宫': ['小红门', '亦庄桥'],\n",
       "             '亦庄桥': ['旧宫', '亦庄文化园'],\n",
       "             '亦庄文化园': ['亦庄桥', '万源街'],\n",
       "             '万源街': ['亦庄文化园', '荣京东街'],\n",
       "             '荣京东街': ['万源街', '荣昌东街'],\n",
       "             '荣昌东街': ['荣京东街', '同济南路'],\n",
       "             '同济南路': ['荣昌东街', '经海路'],\n",
       "             '经海路': ['同济南路', '次渠南'],\n",
       "             '次渠南': ['经海路', '次渠'],\n",
       "             '次渠': ['次渠南', '亦庄火车站'],\n",
       "             '亦庄火车站': ['次渠'],\n",
       "             '燕山': ['房山城关'],\n",
       "             '房山城关': ['燕山', '饶乐府'],\n",
       "             '饶乐府': ['房山城关', '马各庄'],\n",
       "             '马各庄': ['饶乐府', '大石河东'],\n",
       "             '大石河东': ['马各庄', '星城'],\n",
       "             '星城': ['大石河东', '阎村'],\n",
       "             '阎村': ['星城', '紫草坞'],\n",
       "             '紫草坞': ['阎村', '阎村东'],\n",
       "             '东直门站': ['三元桥'],\n",
       "             '3号航站楼': ['三元桥', '2号航站楼'],\n",
       "             '2号航站楼': ['3号航站楼'],\n",
       "             '高碑店': ['四惠东', '传媒大学'],\n",
       "             '传媒大学': ['高碑店', '双桥'],\n",
       "             '双桥': ['传媒大学', '管庄'],\n",
       "             '管庄': ['双桥', '八里桥'],\n",
       "             '八里桥': ['管庄', '通州北苑'],\n",
       "             '通州北苑': ['八里桥', '果园'],\n",
       "             '果园': ['通州北苑', '九棵树'],\n",
       "             '九棵树': ['果园', '梨园'],\n",
       "             '梨园': ['九棵树', '临河里'],\n",
       "             '临河里': ['梨园', '土桥'],\n",
       "             '土桥': ['临河里'],\n",
       "             '颐和园西门': ['巴沟', '茶棚'],\n",
       "             '茶棚': ['颐和园西门', '万安'],\n",
       "             '万安': ['茶棚', '植物园'],\n",
       "             '植物园': ['万安', '香山'],\n",
       "             '香山': ['植物园'],\n",
       "             '四道桥': ['金安桥', '桥户营'],\n",
       "             '桥户营': ['四道桥', '上岸'],\n",
       "             '上岸': ['桥户营', '栗园庄'],\n",
       "             '栗园庄': ['上岸', '小园'],\n",
       "             '小园': ['栗园庄', '石厂'],\n",
       "             '石厂': ['小园']})"
      ]
     },
     "execution_count": 142,
     "metadata": {},
     "output_type": "execute_result"
    }
   ],
   "source": [
    "site_connection"
   ]
  },
  {
   "cell_type": "code",
   "execution_count": 153,
   "metadata": {
    "scrolled": true
   },
   "outputs": [
    {
     "data": {
      "text/plain": [
       "['天安门西', '王府井']"
      ]
     },
     "execution_count": 153,
     "metadata": {},
     "output_type": "execute_result"
    }
   ],
   "source": [
    "site_connection['天安门东']"
   ]
  },
  {
   "cell_type": "markdown",
   "metadata": {},
   "source": [
    "## BFS search"
   ]
  },
  {
   "cell_type": "code",
   "execution_count": 147,
   "metadata": {},
   "outputs": [],
   "source": [
    "def search(start, destination, connection_grpah):\n",
    "    pathes = [[start]]    \n",
    "    visitied = set()    \n",
    "    while pathes: \n",
    "        path = pathes.pop(0)\n",
    "        froninter = path[-1]        \n",
    "        if froninter in visitied: continue            \n",
    "        successors = connection_grpah[froninter]        \n",
    "        for site in successors:\n",
    "            if site in path: continue  # eliminate loop\n",
    "                \n",
    "            new_path = path + [site]\n",
    "            \n",
    "            pathes.append(new_path)\n",
    "            \n",
    "            if site == destination: return new_path\n",
    "        \n",
    "        visitied.add(froninter)\n"
   ]
  },
  {
   "cell_type": "code",
   "execution_count": 157,
   "metadata": {},
   "outputs": [
    {
     "data": {
      "text/plain": [
       "'万寿路->公主坟->军事博物馆->白堆子->白石桥南'"
      ]
     },
     "execution_count": 157,
     "metadata": {},
     "output_type": "execute_result"
    }
   ],
   "source": [
    "'->'.join(search('万寿路', '白石桥南', site_connection))"
   ]
  },
  {
   "cell_type": "markdown",
   "metadata": {},
   "source": [
    "## 加上限制条件：\n",
    "- 所需站数最少\n",
    "- 换乘最少"
   ]
  },
  {
   "cell_type": "code",
   "execution_count": 183,
   "metadata": {},
   "outputs": [],
   "source": [
    "def search(start, destination, connection_grpah, sort_candidate):\n",
    "    pathes = [[start]]    \n",
    "    visitied = set()    \n",
    "    while pathes: \n",
    "        path = pathes.pop(0)\n",
    "        froninter = path[-1]        \n",
    "        if froninter in visitied: continue            \n",
    "        successors = connection_grpah[froninter]        \n",
    "        for site in successors:\n",
    "            if site in path: continue  # eliminate loop\n",
    "                \n",
    "            new_path = path + [site]\n",
    "            \n",
    "            pathes.append(new_path)\n",
    "            \n",
    "            if site == destination: break\n",
    "        \n",
    "        visitied.add(froninter)\n",
    "        \n",
    "        pathes = sort_candidate(pathes) # 我们可以加一个排序函数 对我们的搜索策略进行控制\n",
    "        \n",
    "        if destination in pathes[0]:\n",
    "            return pathes[0]"
   ]
  },
  {
   "cell_type": "code",
   "execution_count": 184,
   "metadata": {},
   "outputs": [],
   "source": [
    "def shortest_path(pathes): \n",
    "    return sorted(pathes, key=len)"
   ]
  },
  {
   "cell_type": "code",
   "execution_count": 195,
   "metadata": {},
   "outputs": [],
   "source": [
    "def get_transfer(path):\n",
    "    transfer = []\n",
    "    for i, site in enumerate(path):\n",
    "        for subway_num, site_list in site_dict.items():\n",
    "            if subway_num in transfer: continue\n",
    "            if i == len(path)-1:break\n",
    "            if site in site_list and path[i+1] in site_list:\n",
    "                transfer.append(subway_num)\n",
    "    return transfer"
   ]
  },
  {
   "cell_type": "code",
   "execution_count": 196,
   "metadata": {},
   "outputs": [],
   "source": [
    "def minimum_transfer(pathes):\n",
    "\n",
    "    if len(pathes) <= 1: return pathes\n",
    "#     print(pathes)\n",
    "    return sorted(pathes, key=lambda x:(len(get_transfer(x)), len(x)))\n",
    "                    "
   ]
  },
  {
   "cell_type": "code",
   "execution_count": 197,
   "metadata": {},
   "outputs": [
    {
     "data": {
      "text/plain": [
       "'万寿路->公主坟->军事博物馆->白堆子->白石桥南'"
      ]
     },
     "execution_count": 197,
     "metadata": {},
     "output_type": "execute_result"
    }
   ],
   "source": [
    "'->'.join(search('万寿路', '白石桥南', site_connection,minimum_transfer))"
   ]
  },
  {
   "cell_type": "code",
   "execution_count": 198,
   "metadata": {},
   "outputs": [
    {
     "data": {
      "text/plain": [
       "'奥体中心->北土城->安华桥->安德里北街->鼓楼大街->什刹海->南锣鼓巷->北海北->平安里->车公庄->车公庄西->白石桥南'"
      ]
     },
     "execution_count": 198,
     "metadata": {},
     "output_type": "execute_result"
    }
   ],
   "source": [
    "'->'.join(search('奥体中心', '白石桥南', site_connection, minimum_transfer))"
   ]
  },
  {
   "cell_type": "code",
   "execution_count": 199,
   "metadata": {},
   "outputs": [
    {
     "data": {
      "text/plain": [
       "'奥体中心->北土城->安华桥->安德里北街->鼓楼大街->积水潭->西直门->动物园->国家图书馆->白石桥南'"
      ]
     },
     "execution_count": 199,
     "metadata": {},
     "output_type": "execute_result"
    }
   ],
   "source": [
    "'->'.join(search('奥体中心', '白石桥南', site_connection, shortest_path))"
   ]
  },
  {
   "cell_type": "code",
   "execution_count": 229,
   "metadata": {},
   "outputs": [],
   "source": [
    "def show(path):\n",
    "    transfer = get_transfer(path)\n",
    "#     print(transfer)\n",
    "    path[0] += '(乘坐' + transfer[0] + ')'\n",
    "    if len(transfer) == 1: return path # 不用换乘\n",
    "    for i, site in enumerate(path):\n",
    "        for j, subway_num in enumerate(transfer):\n",
    "            if j == len(transfer)-1: break\n",
    "#             print(j, subway_num)\n",
    "            if site in site_dict[subway_num] and site in site_dict[transfer[j+1]]:\n",
    "                path[i] += '(换乘' + transfer[j+1] + ')'\n",
    "                \n",
    "    return '->'.join(path)\n",
    "            "
   ]
  },
  {
   "cell_type": "code",
   "execution_count": 230,
   "metadata": {},
   "outputs": [
    {
     "data": {
      "text/plain": [
       "'奥体中心(乘坐北京地铁8号线北段)->北土城->安华桥->安德里北街->鼓楼大街->什刹海->南锣鼓巷(换乘北京地铁6号线)->北海北->平安里->车公庄->车公庄西->白石桥南'"
      ]
     },
     "execution_count": 230,
     "metadata": {},
     "output_type": "execute_result"
    }
   ],
   "source": [
    "show(search('奥体中心', '白石桥南', site_connection, minimum_transfer))"
   ]
  }
 ],
 "metadata": {
  "kernelspec": {
   "display_name": "Python 3",
   "language": "python",
   "name": "python3"
  },
  "language_info": {
   "codemirror_mode": {
    "name": "ipython",
    "version": 3
   },
   "file_extension": ".py",
   "mimetype": "text/x-python",
   "name": "python",
   "nbconvert_exporter": "python",
   "pygments_lexer": "ipython3",
   "version": "3.7.1"
  },
  "toc": {
   "base_numbering": 1,
   "nav_menu": {},
   "number_sections": true,
   "sideBar": true,
   "skip_h1_title": false,
   "title_cell": "Table of Contents",
   "title_sidebar": "Contents",
   "toc_cell": false,
   "toc_position": {},
   "toc_section_display": true,
   "toc_window_display": false
  }
 },
 "nbformat": 4,
 "nbformat_minor": 2
}
